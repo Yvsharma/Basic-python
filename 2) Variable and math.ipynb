{
 "cells": [
  {
   "cell_type": "markdown",
   "id": "7c8bdf0a",
   "metadata": {},
   "source": [
    "Variables and basic maths"
   ]
  },
  {
   "cell_type": "code",
   "execution_count": 1,
   "id": "d15e345d",
   "metadata": {},
   "outputs": [],
   "source": [
    "#assigning veriables\n",
    "\n",
    "a=2\n",
    "b=4\n",
    "c=5\n",
    "d=7"
   ]
  },
  {
   "cell_type": "code",
   "execution_count": 2,
   "id": "91623497",
   "metadata": {},
   "outputs": [
    {
     "data": {
      "text/plain": [
       "6"
      ]
     },
     "execution_count": 2,
     "metadata": {},
     "output_type": "execute_result"
    }
   ],
   "source": [
    "#add\n",
    "a+b"
   ]
  },
  {
   "cell_type": "code",
   "execution_count": 3,
   "id": "da7ba484",
   "metadata": {},
   "outputs": [
    {
     "data": {
      "text/plain": [
       "-1"
      ]
     },
     "execution_count": 3,
     "metadata": {},
     "output_type": "execute_result"
    }
   ],
   "source": [
    "#subtract\n",
    "b-c"
   ]
  },
  {
   "cell_type": "code",
   "execution_count": 4,
   "id": "20cd0f52",
   "metadata": {},
   "outputs": [
    {
     "data": {
      "text/plain": [
       "10"
      ]
     },
     "execution_count": 4,
     "metadata": {},
     "output_type": "execute_result"
    }
   ],
   "source": [
    "#multiply\n",
    "c*a"
   ]
  },
  {
   "cell_type": "code",
   "execution_count": 5,
   "id": "2dfff92e",
   "metadata": {},
   "outputs": [
    {
     "data": {
      "text/plain": [
       "49"
      ]
     },
     "execution_count": 5,
     "metadata": {},
     "output_type": "execute_result"
    }
   ],
   "source": [
    "#power\n",
    "d**a"
   ]
  },
  {
   "cell_type": "code",
   "execution_count": 6,
   "id": "52abf8a5",
   "metadata": {},
   "outputs": [
    {
     "data": {
      "text/plain": [
       "3.5"
      ]
     },
     "execution_count": 6,
     "metadata": {},
     "output_type": "execute_result"
    }
   ],
   "source": [
    "#divide\n",
    "d/a"
   ]
  },
  {
   "cell_type": "code",
   "execution_count": 7,
   "id": "27d77183",
   "metadata": {},
   "outputs": [
    {
     "data": {
      "text/plain": [
       "1"
      ]
     },
     "execution_count": 7,
     "metadata": {},
     "output_type": "execute_result"
    }
   ],
   "source": [
    "#reminder\n",
    "c%a"
   ]
  },
  {
   "cell_type": "code",
   "execution_count": 11,
   "id": "149b3b5a",
   "metadata": {},
   "outputs": [
    {
     "name": "stdout",
     "output_type": "stream",
     "text": [
      "8\n",
      "16\n"
     ]
    }
   ],
   "source": [
    "#power 3\n",
    "\n",
    "print(a**3)\n",
    "print(a**4)"
   ]
  },
  {
   "cell_type": "code",
   "execution_count": null,
   "id": "db20c283",
   "metadata": {},
   "outputs": [],
   "source": []
  }
 ],
 "metadata": {
  "kernelspec": {
   "display_name": "Python 3 (ipykernel)",
   "language": "python",
   "name": "python3"
  },
  "language_info": {
   "codemirror_mode": {
    "name": "ipython",
    "version": 3
   },
   "file_extension": ".py",
   "mimetype": "text/x-python",
   "name": "python",
   "nbconvert_exporter": "python",
   "pygments_lexer": "ipython3",
   "version": "3.9.12"
  }
 },
 "nbformat": 4,
 "nbformat_minor": 5
}
