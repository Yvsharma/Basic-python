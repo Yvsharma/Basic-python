{
 "cells": [
  {
   "cell_type": "markdown",
   "id": "eb463690",
   "metadata": {},
   "source": [
    "# All about list\n"
   ]
  },
  {
   "cell_type": "code",
   "execution_count": 2,
   "id": "eedf366b",
   "metadata": {},
   "outputs": [
    {
     "name": "stdout",
     "output_type": "stream",
     "text": [
      "<class 'list'>\n"
     ]
    }
   ],
   "source": [
    "print(type([]))"
   ]
  },
  {
   "cell_type": "code",
   "execution_count": 13,
   "id": "4096793e",
   "metadata": {},
   "outputs": [
    {
     "name": "stdout",
     "output_type": "stream",
     "text": [
      "['maths', 'hindi', '1.11', '46', 'E264', 11, 25, 64, 56.44, 564.45]\n",
      "<class 'list'>\n"
     ]
    },
    {
     "data": {
      "text/plain": [
       "10"
      ]
     },
     "execution_count": 13,
     "metadata": {},
     "output_type": "execute_result"
    }
   ],
   "source": [
    "a=[\"maths\",\"hindi\",\"1.11\",\"46\",\"E264\",11,25,64,56.44,564.45]\n",
    "print(a)\n",
    "print(type (a))\n",
    "len(a)"
   ]
  },
  {
   "cell_type": "markdown",
   "id": "670b2466",
   "metadata": {},
   "source": [
    "# Append (to add elements in lists)\n"
   ]
  },
  {
   "cell_type": "code",
   "execution_count": 14,
   "id": "c30b3c4d",
   "metadata": {},
   "outputs": [
    {
     "name": "stdout",
     "output_type": "stream",
     "text": [
      "['maths', 'hindi', '1.11', '46', 'E264', 11, 25, 64, 56.44, 564.45, 'Jai ho']\n"
     ]
    }
   ],
   "source": [
    "a.append(\"Jai ho\")\n",
    "print(a)"
   ]
  },
  {
   "cell_type": "code",
   "execution_count": 18,
   "id": "84107a02",
   "metadata": {},
   "outputs": [
    {
     "name": "stdout",
     "output_type": "stream",
     "text": [
      "maths\n",
      "hindi\n",
      "1.11\n",
      "46\n",
      "E264\n",
      "11\n",
      "25\n",
      "64\n",
      "56.44\n",
      "564.45\n",
      "Jai ho\n"
     ]
    }
   ],
   "source": [
    "#indexing\n",
    "#print list element\n",
    "print(a[0])\n",
    "print(a[1])\n",
    "print(a[2])\n",
    "print(a[3])\n",
    "print(a[4])\n",
    "print(a[5])\n",
    "print(a[6])\n",
    "print(a[7])\n",
    "print(a[8])\n",
    "print(a[9])\n",
    "print(a[10])"
   ]
  },
  {
   "cell_type": "code",
   "execution_count": 19,
   "id": "b622e984",
   "metadata": {},
   "outputs": [
    {
     "name": "stdout",
     "output_type": "stream",
     "text": [
      "Jai ho\n",
      "564.45\n",
      "56.44\n",
      "64\n",
      "25\n",
      "11\n",
      "E264\n",
      "46\n",
      "1.11\n",
      "hindi\n"
     ]
    }
   ],
   "source": [
    "#print in reverse direction of list element\n",
    "print(a[-1])\n",
    "print(a[-2])\n",
    "print(a[-3])\n",
    "print(a[-4])\n",
    "print(a[-5])\n",
    "print(a[-6])\n",
    "print(a[-7])\n",
    "print(a[-8])\n",
    "print(a[-9])\n",
    "print(a[-10])"
   ]
  },
  {
   "cell_type": "code",
   "execution_count": 25,
   "id": "032878ef",
   "metadata": {},
   "outputs": [
    {
     "name": "stdout",
     "output_type": "stream",
     "text": [
      "['1.11', '46']\n"
     ]
    }
   ],
   "source": [
    "print(a[2:4]) #print 2nd value till 3rd"
   ]
  },
  {
   "cell_type": "code",
   "execution_count": 26,
   "id": "8dc9340f",
   "metadata": {},
   "outputs": [
    {
     "name": "stdout",
     "output_type": "stream",
     "text": [
      "['maths', 'hindi', '1.11', '46', 'E264', 11]\n"
     ]
    }
   ],
   "source": [
    "print(a[:6]) #printed till 5ht value"
   ]
  },
  {
   "cell_type": "code",
   "execution_count": 27,
   "id": "4739e7b9",
   "metadata": {},
   "outputs": [
    {
     "name": "stdout",
     "output_type": "stream",
     "text": [
      "['1.11', '46', 'E264', 11]\n"
     ]
    }
   ],
   "source": [
    "print(a[2:6]) #6th value will not get printed"
   ]
  },
  {
   "cell_type": "markdown",
   "id": "fb8a94a4",
   "metadata": {},
   "source": [
    "nested list"
   ]
  },
  {
   "cell_type": "code",
   "execution_count": 28,
   "id": "e2caf067",
   "metadata": {},
   "outputs": [
    {
     "name": "stdout",
     "output_type": "stream",
     "text": [
      "['maths', 'hindi', '1.11', '46', 'E264', 11, 25, 64, 56.44, 564.45, 'Jai ho', ['yash', 'sir']]\n"
     ]
    }
   ],
   "source": [
    "#addind list insiade alist\n",
    "a.append([\"yash\",\"sir\"])\n",
    "print(a)"
   ]
  },
  {
   "cell_type": "markdown",
   "id": "7a1013e2",
   "metadata": {},
   "source": [
    "inserting element on a fix position"
   ]
  },
  {
   "cell_type": "code",
   "execution_count": 30,
   "id": "b6b672bb",
   "metadata": {},
   "outputs": [
    {
     "name": "stdout",
     "output_type": "stream",
     "text": [
      "['maths', 'hindi', 'My_jio', '1.11', '46', 'E264', 11, 25, 64, 56.44, 564.45, 'Jai ho', ['yash', 'sir']]\n"
     ]
    }
   ],
   "source": [
    "# list_name.insert(position, element)\n",
    "\n",
    "a.insert(2,\"My_jio\")\n",
    "print(a)"
   ]
  },
  {
   "cell_type": "markdown",
   "id": "01b59817",
   "metadata": {},
   "source": [
    "Extend method (to add multiple elements in a list)"
   ]
  },
  {
   "cell_type": "code",
   "execution_count": 31,
   "id": "0cc4f130",
   "metadata": {},
   "outputs": [
    {
     "data": {
      "text/plain": [
       "['yash', '1', '2']"
      ]
     },
     "execution_count": 31,
     "metadata": {},
     "output_type": "execute_result"
    }
   ],
   "source": [
    "b=[\"yash\",\"1\",\"2\"]\n",
    "b"
   ]
  },
  {
   "cell_type": "code",
   "execution_count": 32,
   "id": "7bd91a15",
   "metadata": {},
   "outputs": [
    {
     "data": {
      "text/plain": [
       "['yash', '1', '2', 'sharma', '3', '4']"
      ]
     },
     "execution_count": 32,
     "metadata": {},
     "output_type": "execute_result"
    }
   ],
   "source": [
    "b.extend([\"sharma\",\"3\",\"4\"])\n",
    "b"
   ]
  },
  {
   "cell_type": "markdown",
   "id": "8bf13001",
   "metadata": {},
   "source": [
    "some operations on list"
   ]
  },
  {
   "cell_type": "code",
   "execution_count": 33,
   "id": "8cbaedb3",
   "metadata": {},
   "outputs": [
    {
     "data": {
      "text/plain": [
       "['1', '2', '3', '4', '5']"
      ]
     },
     "execution_count": 33,
     "metadata": {},
     "output_type": "execute_result"
    }
   ],
   "source": [
    "lis=[\"1\",\"2\",\"3\",\"4\",\"5\"]\n",
    "lis"
   ]
  },
  {
   "cell_type": "code",
   "execution_count": 36,
   "id": "777822ab",
   "metadata": {},
   "outputs": [
    {
     "ename": "TypeError",
     "evalue": "unsupported operand type(s) for +: 'int' and 'str'",
     "output_type": "error",
     "traceback": [
      "\u001b[1;31m---------------------------------------------------------------------------\u001b[0m",
      "\u001b[1;31mTypeError\u001b[0m                                 Traceback (most recent call last)",
      "Input \u001b[1;32mIn [36]\u001b[0m, in \u001b[0;36m<cell line: 1>\u001b[1;34m()\u001b[0m\n\u001b[1;32m----> 1\u001b[0m \u001b[38;5;28;43msum\u001b[39;49m\u001b[43m(\u001b[49m\u001b[43mlis\u001b[49m\u001b[43m)\u001b[49m\n",
      "\u001b[1;31mTypeError\u001b[0m: unsupported operand type(s) for +: 'int' and 'str'"
     ]
    }
   ],
   "source": [
    "sum(lis)"
   ]
  },
  {
   "cell_type": "code",
   "execution_count": 39,
   "id": "5dd92843",
   "metadata": {},
   "outputs": [
    {
     "data": {
      "text/plain": [
       "[1, 2, 3, 4, 5]"
      ]
     },
     "execution_count": 39,
     "metadata": {},
     "output_type": "execute_result"
    }
   ],
   "source": [
    "nd=[1,2,3,4,5] #number wihout \" \" , comcidered as int\n",
    "nd             #element with \" \" , concidered as string"
   ]
  },
  {
   "cell_type": "code",
   "execution_count": 41,
   "id": "b6620938",
   "metadata": {},
   "outputs": [
    {
     "data": {
      "text/plain": [
       "15"
      ]
     },
     "execution_count": 41,
     "metadata": {},
     "output_type": "execute_result"
    }
   ],
   "source": [
    "sum(nd)"
   ]
  },
  {
   "cell_type": "code",
   "execution_count": 42,
   "id": "40162c40",
   "metadata": {},
   "outputs": [],
   "source": [
    "## pop() to remove a element from list\n",
    "# pop() if it's blank then it will remove last element\n",
    "# pop(2) it will remove 2nd element from list"
   ]
  },
  {
   "cell_type": "code",
   "execution_count": 44,
   "id": "609f40ee",
   "metadata": {},
   "outputs": [
    {
     "data": {
      "text/plain": [
       "5"
      ]
     },
     "execution_count": 44,
     "metadata": {},
     "output_type": "execute_result"
    }
   ],
   "source": [
    "nd.pop(4)"
   ]
  },
  {
   "cell_type": "code",
   "execution_count": 45,
   "id": "a13c5ec5",
   "metadata": {},
   "outputs": [
    {
     "name": "stdout",
     "output_type": "stream",
     "text": [
      "[1, 2, 3, 4]\n"
     ]
    }
   ],
   "source": [
    "print(nd)"
   ]
  },
  {
   "cell_type": "code",
   "execution_count": 48,
   "id": "3d4fc9f2",
   "metadata": {},
   "outputs": [
    {
     "data": {
      "text/plain": [
       "7"
      ]
     },
     "execution_count": 48,
     "metadata": {},
     "output_type": "execute_result"
    }
   ],
   "source": [
    "# count it will return repeded values count\n",
    "my=[\"yash\",1,5,6,7,2,4,56,45,56,142,5,5,5,5,5,5,\"yash\"]\n",
    "my.count(5)"
   ]
  },
  {
   "cell_type": "code",
   "execution_count": 50,
   "id": "88413081",
   "metadata": {},
   "outputs": [
    {
     "data": {
      "text/plain": [
       "2"
      ]
     },
     "execution_count": 50,
     "metadata": {},
     "output_type": "execute_result"
    }
   ],
   "source": [
    "my.count(\"yash\")"
   ]
  },
  {
   "cell_type": "code",
   "execution_count": 51,
   "id": "09daba6b",
   "metadata": {},
   "outputs": [
    {
     "data": {
      "text/plain": [
       "2"
      ]
     },
     "execution_count": 51,
     "metadata": {},
     "output_type": "execute_result"
    }
   ],
   "source": [
    "my.count(56)"
   ]
  },
  {
   "cell_type": "code",
   "execution_count": 55,
   "id": "c99a020c",
   "metadata": {},
   "outputs": [
    {
     "data": {
      "text/plain": [
       "10"
      ]
     },
     "execution_count": 55,
     "metadata": {},
     "output_type": "execute_result"
    }
   ],
   "source": [
    "#index(value,from,to)  find value from this to that\n",
    "\n",
    "my.index(142)"
   ]
  },
  {
   "cell_type": "code",
   "execution_count": 57,
   "id": "ad78d84d",
   "metadata": {},
   "outputs": [
    {
     "data": {
      "text/plain": [
       "2"
      ]
     },
     "execution_count": 57,
     "metadata": {},
     "output_type": "execute_result"
    }
   ],
   "source": [
    "my1=[36,56,4,54,6,4,2,878]\n",
    "min(my1) ### #for minimum value in the list"
   ]
  },
  {
   "cell_type": "code",
   "execution_count": 58,
   "id": "f55e3b4b",
   "metadata": {},
   "outputs": [
    {
     "data": {
      "text/plain": [
       "878"
      ]
     },
     "execution_count": 58,
     "metadata": {},
     "output_type": "execute_result"
    }
   ],
   "source": [
    "max(my1) #for maximum value in the list"
   ]
  },
  {
   "cell_type": "code",
   "execution_count": 59,
   "id": "9094c366",
   "metadata": {},
   "outputs": [
    {
     "data": {
      "text/plain": [
       "[36, 56, 4, 54, 6, 4, 2, 878, 36, 56, 4, 54, 6, 4, 2, 878]"
      ]
     },
     "execution_count": 59,
     "metadata": {},
     "output_type": "execute_result"
    }
   ],
   "source": [
    "#multiplicaion if list consist integers or can say appends on the basis of numbers\n",
    "my1*2"
   ]
  }
 ],
 "metadata": {
  "kernelspec": {
   "display_name": "Python 3 (ipykernel)",
   "language": "python",
   "name": "python3"
  },
  "language_info": {
   "codemirror_mode": {
    "name": "ipython",
    "version": 3
   },
   "file_extension": ".py",
   "mimetype": "text/x-python",
   "name": "python",
   "nbconvert_exporter": "python",
   "pygments_lexer": "ipython3",
   "version": "3.9.12"
  }
 },
 "nbformat": 4,
 "nbformat_minor": 5
}
