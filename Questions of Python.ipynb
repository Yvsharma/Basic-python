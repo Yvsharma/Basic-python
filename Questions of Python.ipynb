{
 "cells": [
  {
   "cell_type": "markdown",
   "id": "25a46472",
   "metadata": {},
   "source": [
    "# Q.:-1) There are three rooms with numbers 762,819,608 .find the room whose whose sum of first and last digit is a single digit number"
   ]
  },
  {
   "cell_type": "code",
   "execution_count": 1,
   "id": "bfe6be42",
   "metadata": {},
   "outputs": [
    {
     "name": "stdout",
     "output_type": "stream",
     "text": [
      "762\n"
     ]
    }
   ],
   "source": [
    "#solution\n",
    "rooms=[762,819,608]\n",
    "for i in rooms:\n",
    "  last_digit=i%10\n",
    "  first_digit = i//100\n",
    "  if first_digit+last_digit < 10:\n",
    "    print(i)\n"
   ]
  },
  {
   "cell_type": "markdown",
   "id": "99b3af6b",
   "metadata": {},
   "source": [
    "## Q. 2) Find the largest three elements in an array.\n",
    "Input:\n",
    "array = 20,12,40,84,56,33\n",
    "Output:\n",
    "84,56,40"
   ]
  },
  {
   "cell_type": "markdown",
   "id": "4594d38d",
   "metadata": {},
   "source": [
    "# Q:-3) Function to rotate string left and right by d length "
   ]
  },
  {
   "cell_type": "code",
   "execution_count": null,
   "id": "cc2e3577",
   "metadata": {},
   "outputs": [],
   "source": [
    "def rotate(input,d): \n",
    "  \n",
    "    # slice string in two parts for left and right \n",
    "    Lfirst = input[0 : d] \n",
    "    Lsecond = input[d :] \n",
    "    Rfirst = input[0 : len(input)-d] \n",
    "    Rsecond = input[len(input)-d : ] \n",
    "  \n",
    "    # now concatenate two parts together \n",
    "    print (\"Left Rotation : \", (Lsecond + Lfirst) )\n",
    "    print (\"Right Rotation : \", (Rsecond + Rfirst)) \n",
    "    "
   ]
  },
  {
   "cell_type": "code",
   "execution_count": null,
   "id": "a0c56583",
   "metadata": {},
   "outputs": [],
   "source": [
    "input = 'perfectplanb'\n",
    "d=2\n",
    "rotate(input,d) "
   ]
  },
  {
   "cell_type": "markdown",
   "id": "1816cd4d",
   "metadata": {},
   "source": [
    "# Q:-4) take an input as list of numbers , and print all the numbers that are divisible by 10\n",
    "\n",
    "input : 1 3 20 25 30 output : 2 explanation : 20,30 are both divisbile 10 , you need to return output as 2"
   ]
  },
  {
   "cell_type": "markdown",
   "id": "43f5d9bb",
   "metadata": {},
   "source": [
    "# Q:- 5) find the substrings in a string that occur more than once and print those words\n",
    "\n",
    "input : \"perfect plan b is perfect\"\n",
    "output : perfect\n",
    "explanation : perfect is repeated 2 times"
   ]
  },
  {
   "cell_type": "code",
   "execution_count": null,
   "id": "983901f1",
   "metadata": {},
   "outputs": [],
   "source": [
    "## solution\n",
    "\n",
    "line=\"perfect plan b is perfect\"\n",
    "line=line.split()\n",
    "words=set()\n",
    "for i in line:\n",
    "  if line.count(i)>1:\n",
    "    words.add(i)\n",
    "print(*words)"
   ]
  },
  {
   "cell_type": "markdown",
   "id": "568188ee",
   "metadata": {},
   "source": [
    "# Q:-6) Check if two lists have at-least one element common\n",
    "\n",
    "Example:\n",
    "\n",
    "Input :\n",
    "\n",
    "a = [1, 8, 2, 4, 5]\n",
    "\n",
    "b = [2, 6, 7, 8, 9]\n",
    "\n",
    "Output : True\n",
    "\n",
    "Input :\n",
    "\n",
    "a=[1, 2, 3, 4, 5]\n",
    "\n",
    "b=[6, 7, 8, 9]\n",
    "\n",
    "Output : False"
   ]
  },
  {
   "cell_type": "markdown",
   "id": "193b07db",
   "metadata": {},
   "source": [
    "# Q:-7) Write a Python program to print duplicates from a list of integers\n",
    "\n",
    "Examples:\n",
    "\n",
    "Input : [10, 20, 30, 20, 20, 30, 40, 50, -20, 60, 60, -20, -20]\n",
    "\n",
    "Output : [20, 30, -20, 60]\n",
    "\n",
    "Input : [-1, 1, -1, 8]\n",
    "\n",
    "Output : [-1]"
   ]
  },
  {
   "cell_type": "code",
   "execution_count": null,
   "id": "ca96bbd2",
   "metadata": {},
   "outputs": [],
   "source": [
    "## solution\n",
    "\n",
    "list1 = [10, 20, 30, 20, 20, 30, 40, 50, -20, 60, 60, -20, -20]\n",
    "\n",
    "def Repeat(x):\n",
    "    _size = len(x)\n",
    "    repeated = []\n",
    "    for i in range(_size):\n",
    "        k = i + 1\n",
    "        for j in range(k, _size):\n",
    "            if x[i] == x[j] and x[i] not in repeated:\n",
    "                repeated.append(x[i])\n",
    "    return repeated\n",
    "print (Repeat(list1))"
   ]
  },
  {
   "cell_type": "markdown",
   "id": "a4a0e02a",
   "metadata": {},
   "source": [
    "# Q:-8) Reverse a given String\n",
    "\n",
    "Write a function that reverses a string. The input string is given as an array of characters s\n",
    "\n",
    "Input: s = [\"h\",\"e\",\"l\",\"l\",\"o\"]\n",
    "\n",
    "Output: [\"o\",\"l\",\"l\",\"e\",\"h\"]\n",
    "\n"
   ]
  },
  {
   "cell_type": "markdown",
   "id": "2a9af2ee",
   "metadata": {},
   "source": [
    "# Q:-9) Writa a python program to check a given number is perfect or not.\n",
    "\n",
    "EXAMPLE: INPUT: 6\n",
    "\n",
    "The number is a Perfect number!\n",
    "\n",
    "Case 2: INPUT: 25\n",
    "\n",
    "The number is not a Perfect number!"
   ]
  },
  {
   "cell_type": "markdown",
   "id": "6ffdb10b",
   "metadata": {},
   "source": [
    "# Q:-10) Write a python program to print even length words in a string\n",
    "\n",
    "Input: s = \"This is a python language\"\n",
    "\n",
    "Output: This is python language\n",
    "\n",
    "Input: s = \"i am muskan\"\n",
    "\n",
    "Output: am muskan"
   ]
  },
  {
   "cell_type": "code",
   "execution_count": null,
   "id": "45e74744",
   "metadata": {},
   "outputs": [],
   "source": [
    "## solution\n",
    "\n",
    "s = \"i am muskan\" \n",
    "def printWords(s):\n",
    "    s = s.split(' ') \n",
    "      \n",
    "    for word in s:\n",
    "        if len(word)%2==0:\n",
    "            print(word) \n",
    "\n",
    "printWords(s) "
   ]
  },
  {
   "cell_type": "markdown",
   "id": "3c3f3d48",
   "metadata": {},
   "source": [
    "# Q:-11) Python Program to Check if a Number is a Palindrome or not.\n",
    "\n",
    "INPUT:151\n",
    "\n",
    "OUTPUT:The number is a palindrome!"
   ]
  },
  {
   "cell_type": "markdown",
   "id": "c88266a7",
   "metadata": {},
   "source": [
    "# Q:-12) Write a python program to print only the elements that are in increasing order\n",
    "\n",
    "input: 1 2 4 3 5 8 6\n",
    "\n",
    "output: 1 2 4 5 8\n",
    "\n",
    "explanation: 3 and 6 are ignored because we need the increasing sequence"
   ]
  },
  {
   "cell_type": "code",
   "execution_count": null,
   "id": "3dc04ed9",
   "metadata": {},
   "outputs": [],
   "source": [
    "## solution \n",
    "nums = list(map(int,input().split()))\n",
    "maxi = nums[0]-1\n",
    "for i in nums:\n",
    "  if i>maxi:\n",
    "    print(i,end=\" \")\n",
    "    maxi=i"
   ]
  },
  {
   "cell_type": "markdown",
   "id": "f2e084e9",
   "metadata": {},
   "source": [
    "# Q:-13) Print square root of a given number using binary search"
   ]
  },
  {
   "cell_type": "code",
   "execution_count": null,
   "id": "752ca82d",
   "metadata": {},
   "outputs": [],
   "source": [
    "##solution \n",
    "\n",
    "# Python3 implementation to find\n",
    "# square root of given number\n",
    "# upto given precision using\n",
    "# binary search.\n",
    "\n",
    "# Function to find square root of\n",
    "# given number upto given precision\n",
    "\n",
    "\n",
    "def squareRoot(number, precision):\n",
    "\n",
    "\tstart = 0\n",
    "\tend, ans = number, 1\n",
    "\n",
    "\t# For computing integral part\n",
    "\t# of square root of number\n",
    "\twhile (start <= end):\n",
    "\t\tmid = int((start + end) / 2)\n",
    "\n",
    "\t\tif (mid * mid == number):\n",
    "\t\t\tans = mid\n",
    "\t\t\tbreak\n",
    "\n",
    "\t\t# incrementing start if integral\n",
    "\t\t# part lies on right side of the mid\n",
    "\t\tif (mid * mid < number):\n",
    "\t\t\tstart = mid + 1\n",
    "\t\t\tans = mid\n",
    "\n",
    "\t\t# decrementing end if integral part\n",
    "\t\t# lies on the left side of the mid\n",
    "\t\telse:\n",
    "\t\t\tend = mid - 1\n",
    "\n",
    "\t# For computing the fractional part\n",
    "\t# of square root upto given precision\n",
    "\tincrement = 0.1\n",
    "\tfor i in range(0, precision):\n",
    "\t\twhile (ans * ans <= number):\n",
    "\t\t\tans += increment\n",
    "\n",
    "\t\t# loop terminates when ans * ans > number\n",
    "\t\tans = ans - increment\n",
    "\t\tincrement = increment / 10\n",
    "\n",
    "\treturn ans\n",
    "\n",
    "\n",
    "# Driver code\n",
    "print(round(squareRoot(50, 3), 4))\n",
    "print(round(squareRoot(10, 4), 4))\n"
   ]
  },
  {
   "cell_type": "markdown",
   "id": "1aa35c62",
   "metadata": {},
   "source": [
    "# Q:-14) given a string, which is a DNA sample consisting of only A,T,C and G letters. find the letter with most frequency\n",
    "\n",
    "input: \"ATCATAG\"\n",
    "\n",
    "output: \"A\"\n",
    "\n",
    "explanation: 'A' occured more times than all the other letters from the DNA sample"
   ]
  },
  {
   "cell_type": "code",
   "execution_count": null,
   "id": "c63094bd",
   "metadata": {},
   "outputs": [],
   "source": [
    "##hint\n",
    "\n",
    "s = input()\n",
    "a_count,c_count,t_count,g_count=0,0,0,0\n",
    "for i in s:\n",
    "  if i=='A':\n",
    "    a_count+=1\n",
    "  elif i=='C':\n",
    "    c_count+=1\n",
    "  elif i=='T':\n",
    "    t_count+=1\n",
    "  else:\n",
    "    g_count+=1\n",
    "#your task is to find the maximum letter count and print it"
   ]
  },
  {
   "cell_type": "code",
   "execution_count": null,
   "id": "90dc0358",
   "metadata": {},
   "outputs": [],
   "source": []
  }
 ],
 "metadata": {
  "kernelspec": {
   "display_name": "Python 3 (ipykernel)",
   "language": "python",
   "name": "python3"
  },
  "language_info": {
   "codemirror_mode": {
    "name": "ipython",
    "version": 3
   },
   "file_extension": ".py",
   "mimetype": "text/x-python",
   "name": "python",
   "nbconvert_exporter": "python",
   "pygments_lexer": "ipython3",
   "version": "3.9.12"
  }
 },
 "nbformat": 4,
 "nbformat_minor": 5
}
